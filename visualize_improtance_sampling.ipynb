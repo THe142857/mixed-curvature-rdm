{
 "cells": [
  {
   "cell_type": "code",
   "execution_count": 1,
   "id": "cebc02d1",
   "metadata": {},
   "outputs": [],
   "source": [
    "import matplotlib.pyplot as plt\n",
    "import numpy as np"
   ]
  },
  {
   "cell_type": "code",
   "execution_count": 2,
   "id": "6654c0a5",
   "metadata": {},
   "outputs": [],
   "source": [
    "no_imp = ['18rxpu46', '3s15ej23', '1ah30kvf', '1b4sznil', '271qmdv6']\n",
    "imp = ['28dw1onl', '1o0oz2zl', '19g28guz', '1s11cvnu', '2swvq8ku']"
   ]
  },
  {
   "cell_type": "markdown",
   "id": "51f42caf",
   "metadata": {},
   "source": [
    "### Download Data"
   ]
  },
  {
   "cell_type": "code",
   "execution_count": 3,
   "id": "47057c58",
   "metadata": {},
   "outputs": [],
   "source": [
    "# import wandb\n",
    "# api = wandb.Api(timeout=9999)\n",
    "\n",
    "# def get_run(run_id):\n",
    "#     return api.run(\"miladink/riemannian_diffusion/\"+run_id)"
   ]
  },
  {
   "cell_type": "code",
   "execution_count": 4,
   "id": "7f4f8ada",
   "metadata": {},
   "outputs": [],
   "source": [
    "# run_data = {}"
   ]
  },
  {
   "cell_type": "code",
   "execution_count": 5,
   "id": "dd075aef",
   "metadata": {},
   "outputs": [],
   "source": [
    "# for run_id in no_imp+imp:\n",
    "#     run = get_run(run_id)\n",
    "#     data = list(run.scan_history())\n",
    "#     run_data[run_id] = data\n",
    "#     print('hey! nice! another one!')"
   ]
  },
  {
   "cell_type": "markdown",
   "id": "098b6d04",
   "metadata": {},
   "source": [
    "### Write Data to Disk"
   ]
  },
  {
   "cell_type": "code",
   "execution_count": 6,
   "id": "55bbca93",
   "metadata": {},
   "outputs": [],
   "source": [
    "import json"
   ]
  },
  {
   "cell_type": "code",
   "execution_count": 7,
   "id": "c85122b9",
   "metadata": {},
   "outputs": [],
   "source": [
    "# for run_id, data in run_data.items():\n",
    "#     with open('./experiments_data/'+run_id+'.json', 'w') as f:\n",
    "#         json.dump(data, f)"
   ]
  },
  {
   "cell_type": "markdown",
   "id": "d92d7fa2",
   "metadata": {},
   "source": [
    "### Generate Plots"
   ]
  },
  {
   "cell_type": "code",
   "execution_count": 8,
   "id": "185797b4",
   "metadata": {},
   "outputs": [],
   "source": [
    "run_data = {}\n",
    "for run_id in no_imp+imp:\n",
    "    with open('./experiments_data/'+run_id+'.json', 'r') as f:\n",
    "        data = json.load(f)\n",
    "    run_data[run_id] = data"
   ]
  },
  {
   "cell_type": "code",
   "execution_count": 9,
   "id": "e005e3fd",
   "metadata": {},
   "outputs": [],
   "source": [
    "def extract_losses_steps(data):\n",
    "    losses = []\n",
    "    steps = []\n",
    "    for row in data:\n",
    "        if 'loss' in row:\n",
    "            losses.append(row['loss'])\n",
    "            steps.append(row['_step'])\n",
    "    return steps, losses\n",
    "            \n",
    "steps, losses = extract_losses_steps(run_data[no_imp[0]])"
   ]
  },
  {
   "cell_type": "code",
   "execution_count": 13,
   "id": "4af947da",
   "metadata": {},
   "outputs": [],
   "source": [
    "# using the following implementation for calculating standard deviation\n",
    "#https://stats.stackexchange.com/questions/111851/standard-deviation-of-an-exponentially-weighted-mean"
   ]
  },
  {
   "cell_type": "code",
   "execution_count": 10,
   "id": "d80e52c6",
   "metadata": {},
   "outputs": [],
   "source": [
    "def get_em(losses):\n",
    "    ema = 0\n",
    "    emstd = 0\n",
    "    emas = [0.0]\n",
    "    emstds = []\n",
    "\n",
    "    beta1 = 0.999\n",
    "    beta2 = 0.999\n",
    "    b1p = 1.0\n",
    "    b2p = 1.0\n",
    "\n",
    "    for loss in losses:\n",
    "\n",
    "        b1p *= beta1\n",
    "        b2p *= beta2\n",
    "\n",
    "        ema = beta1 * ema + (1-beta1) * loss\n",
    "        emstd = beta2 * emstd + (1-beta2) * (loss-emas[-1])**2\n",
    "\n",
    "        # store values\n",
    "        emas.append(ema/(1-b1p))\n",
    "        emstds.append(emstd/(1-b2p))\n",
    "    return emas, emstds"
   ]
  },
  {
   "cell_type": "code",
   "execution_count": 11,
   "id": "9cba4d37",
   "metadata": {},
   "outputs": [],
   "source": [
    "def get_mu_std(runs): \n",
    "    mus = []\n",
    "    stds = []\n",
    "    for run_id in runs:\n",
    "        steps, losses = extract_losses_steps(run_data[run_id])\n",
    "        emas, emstds = get_em(losses)\n",
    "        mu = np.array(emas[1:])\n",
    "        std = np.array(emstds)\n",
    "        mus.append(mu)\n",
    "        stds.append(std)\n",
    "\n",
    "    mus = [mu[:int(3e5)] for mu in mus]\n",
    "    stds = [std[:int(3e5)] for std in stds]\n",
    "    mus = np.stack(mus)\n",
    "    stds = np.stack(stds)\n",
    "    mu = mus.mean(axis=0)\n",
    "    std = stds.mean(axis=0)\n",
    "    x = steps[:int(3e5)]\n",
    "    return x, mu, std\n",
    "x_i, mu_i, std_i = get_mu_std(imp)\n",
    "x_ni, mu_ni, std_ni = get_mu_std(no_imp)"
   ]
  },
  {
   "cell_type": "code",
   "execution_count": 12,
   "id": "a9e4dca5",
   "metadata": {},
   "outputs": [
    {
     "data": {
      "image/png": "[encoded data removed]",
      "text/plain": [
       "<Figure size 432x288 with 1 Axes>"
      ]
     },
     "metadata": {
      "needs_background": "light"
     },
     "output_type": "display_data"
    }
   ],
   "source": [
    "error_ni = std_ni**0.5\n",
    "error_i = std_i**0.5\n",
    "x = steps[:int(3e5)]\n",
    "x = [xx/1000 for xx in x]\n",
    "plt.plot(x, mu_ni, label='no-imp')\n",
    "plt.fill_between(x, mu_ni-error_ni, mu_ni+error_ni, alpha=0.2)\n",
    "plt.plot(x, mu_i, label='imp')\n",
    "plt.fill_between(x, mu_i-error_i, mu_i+error_i, alpha=0.2)\n",
    "plt.ylim(-1.,3.)\n",
    "plt.xlabel('thousands of iterations')\n",
    "plt.ylabel('loss')\n",
    "plt.legend()\n",
    "plt.savefig('./plots/imp.pdf')"
   ]
  },
  {
   "cell_type": "code",
   "execution_count": null,
   "id": "bcf4f748",
   "metadata": {},
   "outputs": [],
   "source": []
  }
 ],
 "metadata": {
  "kernelspec": {
   "display_name": "Python 3 (ipykernel)",
   "language": "python",
   "name": "python3"
  },
  "language_info": {
   "codemirror_mode": {
    "name": "ipython",
    "version": 3
   },
   "file_extension": ".py",
   "mimetype": "text/x-python",
   "name": "python",
   "nbconvert_exporter": "python",
   "pygments_lexer": "ipython3",
   "version": "3.9.15"
  }
 },
 "nbformat": 4,
 "nbformat_minor": 5
}
