{
 "cells": [
  {
   "cell_type": "code",
   "execution_count": 1,
   "metadata": {},
   "outputs": [],
   "source": [
    "%load_ext autoreload\n",
    "%autoreload 2"
   ]
  },
  {
   "cell_type": "code",
   "execution_count": 2,
   "metadata": {},
   "outputs": [],
   "source": [
    "%matplotlib inline"
   ]
  },
  {
   "cell_type": "code",
   "execution_count": null,
   "metadata": {
    "pycharm": {
     "name": "#%%\n"
    },
    "scrolled": true
   },
   "outputs": [],
   "source": [
    "import matplotlib\n",
    "import torch\n",
    "import argparse\n",
    "import wandb\n",
    "from torch.utils.data import DataLoader\n",
    "from data import datasets\n",
    "import utils.utils as utils\n",
    "import plotting\n",
    "import os\n",
    "import einops \n",
    "import json\n",
    "from helpers import logging, create\n",
    "from manifold import Sphere\n",
    "from sdes import AmbientSphericalBrownianMotion, AmbientSphericalGenerative\n",
    "from models import ConcatMLP\n",
    "from einops import rearrange, reduce, repeat\n",
    "\n",
    "_folder_name_keys = ['dataset', 'batch_size', 'lr', 'num_iterations', 'T0', 'emb_size', 'hidden_layers']\n",
    "\n",
    "\n",
    "def get_args():\n",
    "    parser = argparse.ArgumentParser()\n",
    "\n",
    "    # i/o\n",
    "    parser.add_argument('--dataset', type=str,\n",
    "                        choices=['UniformSlice', 'Earthquake', 'Fire', 'Volcano'],\n",
    "                        default='UniformSlice')\n",
    "    parser.add_argument('--dataroot', type=str, default='data')\n",
    "    parser.add_argument('--saveroot', type=str, default='saved')\n",
    "    parser.add_argument('--expname', type=str, default='sphere')\n",
    "    parser.add_argument('--print_every', type=int, default=100)\n",
    "    parser.add_argument('--sample_every', type=int, default=500)\n",
    "    parser.add_argument('--checkpoint_every', type=int, default=500)\n",
    "    parser.add_argument('--num_steps', type=int, default=100,\n",
    "                        help='number of integration steps for sampling')\n",
    "\n",
    "    # hparam\n",
    "    parser.add_argument('--T0', type=float, default=2.0,\n",
    "                        help='integration time')\n",
    "    parser.add_argument('--emb_size', type=int, default=256,\n",
    "                        help='num of hiddens')\n",
    "    parser.add_argument('--hidden_layers', type=int, default=2,\n",
    "                        help='num of hiddens')\n",
    "\n",
    "    # optimization\n",
    "    parser.add_argument('--div', type=str, choices=['deterministic'], )\n",
    "    parser.add_argument('--batch_size', type=int, default=64)\n",
    "    parser.add_argument('--val_batch_size', type=int, default=256)\n",
    "    parser.add_argument('--test_batch_size', type=int, default=256)\n",
    "    parser.add_argument('--lr', type=float, default=0.001,\n",
    "                        help='learning rate')\n",
    "    parser.add_argument('--num_iterations', type=int, default=10000)\n",
    "\n",
    "    return parser.parse_args(['--dataset' ,'UniformSlice'])\n",
    "\n",
    "\n",
    "args = get_args()\n",
    "folder_tag = 'riemannian-diffusion'\n",
    "folder_name = '-'.join([str(getattr(args, k)) for k in _folder_name_keys])\n",
    "create(args.saveroot, folder_tag, args.expname, folder_name)\n",
    "folder_path = os.path.join(args.saveroot, folder_tag, args.expname, folder_name)\n",
    "print_ = lambda s: logging(s, folder_path)\n",
    "print_(f'folder path: {folder_path}')\n",
    "print_(str(args))\n",
    "with open(os.path.join(folder_path, 'args.txt'), 'w') as out:\n",
    "    out.write(json.dumps(args.__dict__, indent=4))\n",
    "\n",
    "# wandb.init(project=\"riemannian-diffusion\", name=f'{args.expname}-{folder_name}', config=args.__dict__)\n",
    "\n",
    "if args.dataset == 'UniformSlice':\n",
    "    trainset = datasets.UniformPatchDataset(n=50000)\n",
    "    trainloader = DataLoader(trainset, batch_size=args.batch_size, shuffle=True, num_workers=0)\n",
    "\n",
    "    valset = datasets.UniformPatchDataset(n=10000)\n",
    "    valloader = DataLoader(trainset, batch_size=args.val_batch_size, shuffle=True, num_workers=0)\n",
    "\n",
    "    testset = datasets.UniformPatchDataset(n=10000)\n",
    "    testloader = DataLoader(trainset, batch_size=args.test_batch_size, shuffle=True, num_workers=0)\n",
    "elif args.dataset == 'Earthquake':\n",
    "    trainset = datasets.Earthquake()\n",
    "    trainloader = DataLoader(trainset, batch_size=args.batch_size, shuffle=True, num_workers=0)\n",
    "\n",
    "    valset = datasets.Earthquake()\n",
    "    valloader = DataLoader(trainset, batch_size=args.val_batch_size, shuffle=True, num_workers=0)\n",
    "\n",
    "    testset = datasets.Earthquake()\n",
    "    testloader = DataLoader(trainset, batch_size=args.test_batch_size, shuffle=True, num_workers=0)\n",
    "else:\n",
    "    raise Exception(f'Dataset {args.dataset} not implemented')\n",
    "\n",
    "a = ConcatMLP(3, 1, args.emb_size, args.hidden_layers)\n",
    "print_(a)\n",
    "cuda = torch.cuda.is_available()\n",
    "\n",
    "if cuda:\n",
    "    print('cuda available')\n",
    "    a = a.cuda()\n",
    "    device = 'cuda'\n",
    "else:\n",
    "    print('cuda unavailable')\n",
    "    device = 'cpu'\n",
    "\n",
    "sde = AmbientSphericalBrownianMotion(args.T0)\n",
    "gsde = AmbientSphericalGenerative(utils.get_drift(a, args.T0, Sphere, proj_div_proj=utils.zero_func))\n",
    "opt = torch.optim.Adam(a.parameters(), lr=args.lr)\n",
    "count = 0\n",
    "\n",
    "if os.path.exists(os.path.join(folder_path, 'checkpoint.pt')):\n",
    "    a, opt, not_finished, count = torch.load(os.path.join(folder_path, 'checkpoint.pt'))\n",
    "    gsde = AmbientSphericalGenerative(utils.get_drift(a, args.T0, Sphere, proj_div_proj=utils.zero_func))\n",
    "    pass\n",
    "else:\n",
    "    not_finished = True\n",
    "    count = 0\n",
    "\n",
    "    a.eval()\n",
    "#     wandb.log(\n",
    "#         {'samples': wandb.Image(plotting.plot_scatter3D(gsde.sample(utils.sample_spherical_uniform(n=1024).to(device),\n",
    "                                                                    args.T0, args.num_steps).detach().cpu().numpy()))},\n",
    "        step=count)\n",
    "    a.train()\n",
    "\n",
    "#     wandb.log({'test data': wandb.Image(plotting.plot_scatter3D(testset.data[:1024]))},\n",
    "#               step=count)\n",
    "\n",
    "while not_finished:\n",
    "    for x in trainloader:\n",
    "        t = utils.stratified_uniform(x.size(0), args.T0)\n",
    "        y = sde.sample(x, t).requires_grad_(True)\n",
    "        if cuda:\n",
    "            y = y.cuda()\n",
    "            t = t.cuda()\n",
    "\n",
    "        loss = - utils.elbo(y, t, a, Sphere.proj2manifold, Sphere.proj2tangent, args.T0, utils.zero_func,\n",
    "                            utils.zero_func).mean()\n",
    "\n",
    "        opt.zero_grad()\n",
    "        loss.backward()\n",
    "        opt.step()\n",
    "\n",
    "        count += 1\n",
    "#         wandb.log({'loss': loss.item()}, step=count)\n",
    "        if count % args.print_every == 0 or count == 1:\n",
    "            print_(f'Iteration {count} \\tloss {loss.item()}')\n",
    "\n",
    "        if count % args.sample_every == 0:\n",
    "            a.eval()\n",
    "#             wandb.log(\n",
    "#                 {'samples': wandb.Image(\n",
    "#                     plotting.plot_scatter3D(gsde.sample(utils.sample_spherical_uniform(n=1024).to(device),\n",
    "#                                                         args.T0,\n",
    "#                                                         args.num_steps).detach().cpu().numpy()))},\n",
    "#                 step=count)\n",
    "            a.train()\n",
    "\n",
    "        if count % args.checkpoint_every == 0:\n",
    "            torch.save([a, opt, not_finished, count], os.path.join(folder_path, 'checkpoint.pt'))\n",
    "\n",
    "        if count >= args.num_iterations:\n",
    "            not_finished = False\n",
    "            print_('Finished training')\n",
    "            break"
   ]
  },
  {
   "cell_type": "code",
   "execution_count": 2,
   "metadata": {
    "pycharm": {
     "name": "#%%\n"
    }
   },
   "outputs": [
    {
     "data": {
      "text/plain": [
       "torch.Size([64])"
      ]
     },
     "execution_count": 2,
     "metadata": {},
     "output_type": "execute_result"
    }
   ],
   "source": [
    "utils.elbo(y, t, a, Sphere.proj2manifold, Sphere.proj2tangent, args.T0, utils.zero_func,\n",
    "                            utils.zero_func).shape"
   ]
  },
  {
   "cell_type": "code",
   "execution_count": 3,
   "metadata": {},
   "outputs": [],
   "source": [
    "def exponent_step(y, s, a_func, proj2manifold, proj2tangent, ds, db, proj_div_proj=None, div_proj_div_proj=None):\n",
    "    py = proj2manifold(y)\n",
    "    a = a_func(py, s)\n",
    "    pa = proj2tangent(py, a)\n",
    "    \n",
    "    if proj_div_proj is not None:\n",
    "        pdp = proj_div_proj(py)\n",
    "    else:\n",
    "        raise NotImplementedError  # TODO\n",
    "        \n",
    "    v0 = pdp + pa\n",
    "\n",
    "    div_v0 = 0\n",
    "    for i in range(y.size(1)):\n",
    "        div_v0 += torch.autograd.grad(v0[:, i].sum(), y, create_graph=False, retain_graph=True)[0][:, i]\n",
    "\n",
    "    if div_proj_div_proj is not None:\n",
    "        dpdp = div_proj_div_proj(y)\n",
    "    else:\n",
    "        raise NotImplementedError  # TODO\n",
    "        \n",
    "    A = (a*db).sum(axis=-1)\n",
    "    B = (-0.5 * (a ** 2).sum(dim=1) - div_v0 + 0.5 * dpdp)*ds\n",
    "    \n",
    "    return  A + B"
   ]
  },
  {
   "cell_type": "code",
   "execution_count": 4,
   "metadata": {},
   "outputs": [],
   "source": [
    "from sdes import midpoint_step\n",
    "from utils.utils import LOG_SPHERICAL_UNIFORM\n",
    "\n",
    "def integrate_elbok(sde, y0, a_func, proj2manifold, proj2tangent, T, K, steps: int = 1000,\n",
    "          proj_div_proj=None,\n",
    "          div_proj_div_proj=None):\n",
    "    \n",
    "    expos = []\n",
    "    for _ in range(K):\n",
    "        y_next = y0\n",
    "        s = 0\n",
    "        ds = T / steps\n",
    "        expo = torch.zeros(y0.shape[0]).to(y0)+LOG_SPHERICAL_UNIFORM\n",
    "        for _ in range(steps):\n",
    "            s += ds\n",
    "            y = y_next.detach().requires_grad_(True)\n",
    "            y_next, increment = midpoint_step(s, ds, y, sde.f, sde.g_increment, proj2manifold, return_increment=True)\n",
    "            expo_step = exponent_step(y=y,s=s,a_func=a,\n",
    "                      proj2manifold=proj2manifold,\n",
    "                      proj2tangent=proj2tangent, \n",
    "                      ds=ds,\n",
    "                      db=increment, \n",
    "                      proj_div_proj=utils.zero_func,\n",
    "                      div_proj_div_proj=utils.zero_func)\n",
    "            expo = expo_step.detach() + expo\n",
    "        expos.append(expo)\n",
    "        \n",
    "    #sum different samples \n",
    "    expos = torch.stack(expos, axis=1) # [batch_size, K]\n",
    "    logK = torch.log(torch.tensor(K)).to(x0)\n",
    "    elbok = torch.logsumexp(expos, dim=1)-logK\n",
    "    \n",
    "    return elbok"
   ]
  },
  {
   "cell_type": "code",
   "execution_count": 5,
   "metadata": {},
   "outputs": [],
   "source": [
    "def integrate_elbok_parallel(sde, y0, a_func, proj2manifold, proj2tangent, T, K, steps: int = 1000,\n",
    "          proj_div_proj=None,\n",
    "          div_proj_div_proj=None):\n",
    "    \n",
    "    #adding K copies of the data so I can parallelize the sampling\n",
    "    y0 = repeat(y0, 'b d -> b k d', k=K)\n",
    "    y0 = rearrange(y0, 'b k d -> (b k) d')\n",
    "    \n",
    "    y_next = y0\n",
    "    s = 0\n",
    "    ds = T / steps\n",
    "    expo = torch.zeros(y0.shape[0]).to(y0)+LOG_SPHERICAL_UNIFORM\n",
    "    for _ in range(steps):\n",
    "        s += ds\n",
    "        y = y_next.detach().requires_grad_(True)\n",
    "        y_next, increment = midpoint_step(s, ds, y, sde.f, sde.g_increment, proj2manifold, return_increment=True)\n",
    "        expo_step = exponent_step(y=y,s=s,a_func=a,\n",
    "                  proj2manifold=proj2manifold,\n",
    "                  proj2tangent=proj2tangent, \n",
    "                  ds=ds,\n",
    "                  db=increment, \n",
    "                  proj_div_proj=utils.zero_func,\n",
    "                  div_proj_div_proj=utils.zero_func)\n",
    "        expo = expo_step.detach() + expo\n",
    "    \n",
    "    expo = rearrange(expo, '(b k) -> b k', k=K)\n",
    "    logK = torch.log(torch.tensor(K)).to(x0)\n",
    "    elbok = torch.logsumexp(expo, dim=1)-logK\n",
    "    \n",
    "    return elbok"
   ]
  },
  {
   "cell_type": "code",
   "execution_count": 7,
   "metadata": {},
   "outputs": [],
   "source": [
    "K = 10\n",
    "steps = 1000\n",
    "x0 = next(iter(trainloader)) # [batch_size, manifold_dim]"
   ]
  },
  {
   "cell_type": "code",
   "execution_count": 8,
   "metadata": {},
   "outputs": [],
   "source": [
    "X = x0[0:1].repeat(500, 1)"
   ]
  },
  {
   "cell_type": "code",
   "execution_count": 9,
   "metadata": {},
   "outputs": [],
   "source": [
    "elbok1 = integrate_elbok(sde, X, a, Sphere.proj2manifold, Sphere.proj2tangent, sde.T, 1, steps=1000)\n",
    "elbok4 = integrate_elbok(sde, X, a, Sphere.proj2manifold, Sphere.proj2tangent, sde.T, 4, steps=1000)\n",
    "elbok10 = integrate_elbok(sde, X, a, Sphere.proj2manifold, Sphere.proj2tangent, sde.T, 10, steps=1000)"
   ]
  },
  {
   "cell_type": "code",
   "execution_count": 17,
   "metadata": {},
   "outputs": [
    {
     "data": {
      "image/png": "[encoded data removed]",
      "text/plain": [
       "<Figure size 432x288 with 1 Axes>"
      ]
     },
     "metadata": {
      "needs_background": "light"
     },
     "output_type": "display_data"
    }
   ],
   "source": [
    "import matplotlib.pyplot as plt\n",
    "plt.hist(elbok10.detach().numpy(),)\n",
    "plt.hist(elbok4.detach().numpy(), alpha=0.5)\n",
    "plt.hist(elbok1.detach().numpy(), alpha=0.1)\n",
    "\n",
    "plt.show()"
   ]
  },
  {
   "cell_type": "code",
   "execution_count": 18,
   "metadata": {},
   "outputs": [
    {
     "data": {
      "text/plain": [
       "tensor(-0.8898)"
      ]
     },
     "execution_count": 18,
     "metadata": {},
     "output_type": "execute_result"
    }
   ],
   "source": [
    "elbok1.mean()"
   ]
  },
  {
   "cell_type": "code",
   "execution_count": 19,
   "metadata": {},
   "outputs": [
    {
     "data": {
      "text/plain": [
       "tensor(0.2383)"
      ]
     },
     "execution_count": 19,
     "metadata": {},
     "output_type": "execute_result"
    }
   ],
   "source": [
    "elbok4.mean()"
   ]
  },
  {
   "cell_type": "code",
   "execution_count": 20,
   "metadata": {},
   "outputs": [
    {
     "data": {
      "text/plain": [
       "tensor(0.3962)"
      ]
     },
     "execution_count": 20,
     "metadata": {},
     "output_type": "execute_result"
    }
   ],
   "source": [
    "elbok10.mean()"
   ]
  }
 ],
 "metadata": {
  "kernelspec": {
   "display_name": "Python 3 (ipykernel)",
   "language": "python",
   "name": "python3"
  },
  "language_info": {
   "codemirror_mode": {
    "name": "ipython",
    "version": 3
   },
   "file_extension": ".py",
   "mimetype": "text/x-python",
   "name": "python",
   "nbconvert_exporter": "python",
   "pygments_lexer": "ipython3",
   "version": "3.9.15"
  }
 },
 "nbformat": 4,
 "nbformat_minor": 1
}
